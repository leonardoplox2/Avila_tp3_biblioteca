{
 "cells": [
  {
   "cell_type": "code",
   "execution_count": null,
   "id": "63a457a7-7d2e-4dd8-8c62-9855531bf8e6",
   "metadata": {},
   "outputs": [],
   "source": []
  }
 ],
 "metadata": {
  "kernelspec": {
   "display_name": "",
   "name": ""
  },
  "language_info": {
   "name": ""
  }
 },
 "nbformat": 4,
 "nbformat_minor": 5
}
