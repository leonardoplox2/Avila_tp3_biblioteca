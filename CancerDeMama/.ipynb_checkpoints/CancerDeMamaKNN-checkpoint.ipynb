{
 "cells": [
  {
   "cell_type": "code",
   "execution_count": 109,
   "id": "47be8a2e-3f9e-40e4-80b7-f6069de916b4",
   "metadata": {},
   "outputs": [],
   "source": [
    "import pandas as pd\n",
    "import numpy as np\n",
    "import matplotlib.pyplot as plt\n",
    "import seaborn as sb\n",
    "\n",
    "dataframe = pd.read_csv('DSCancerDeMamaSinDatosPerdidos.csv',sep=';')\n",
    "clasificadores = ['Benigno','Maligno']"
   ]
  },
  {
   "cell_type": "code",
   "execution_count": 111,
   "id": "82dd4fb4-9997-467e-af74-cd864abd291b",
   "metadata": {},
   "outputs": [
    {
     "data": {
      "text/html": [
       "<div>\n",
       "<style scoped>\n",
       "    .dataframe tbody tr th:only-of-type {\n",
       "        vertical-align: middle;\n",
       "    }\n",
       "\n",
       "    .dataframe tbody tr th {\n",
       "        vertical-align: top;\n",
       "    }\n",
       "\n",
       "    .dataframe thead th {\n",
       "        text-align: right;\n",
       "    }\n",
       "</style>\n",
       "<table border=\"1\" class=\"dataframe\">\n",
       "  <thead>\n",
       "    <tr style=\"text-align: right;\">\n",
       "      <th></th>\n",
       "      <th>BIRADS</th>\n",
       "      <th>Edad</th>\n",
       "      <th>Forma</th>\n",
       "      <th>Margen</th>\n",
       "      <th>Densidad</th>\n",
       "      <th>Resultado</th>\n",
       "    </tr>\n",
       "  </thead>\n",
       "  <tbody>\n",
       "    <tr>\n",
       "      <th>0</th>\n",
       "      <td>5</td>\n",
       "      <td>67</td>\n",
       "      <td>3</td>\n",
       "      <td>5</td>\n",
       "      <td>3</td>\n",
       "      <td>1</td>\n",
       "    </tr>\n",
       "    <tr>\n",
       "      <th>1</th>\n",
       "      <td>5</td>\n",
       "      <td>58</td>\n",
       "      <td>4</td>\n",
       "      <td>5</td>\n",
       "      <td>3</td>\n",
       "      <td>1</td>\n",
       "    </tr>\n",
       "    <tr>\n",
       "      <th>2</th>\n",
       "      <td>4</td>\n",
       "      <td>28</td>\n",
       "      <td>1</td>\n",
       "      <td>1</td>\n",
       "      <td>3</td>\n",
       "      <td>0</td>\n",
       "    </tr>\n",
       "    <tr>\n",
       "      <th>3</th>\n",
       "      <td>5</td>\n",
       "      <td>57</td>\n",
       "      <td>1</td>\n",
       "      <td>5</td>\n",
       "      <td>3</td>\n",
       "      <td>1</td>\n",
       "    </tr>\n",
       "    <tr>\n",
       "      <th>4</th>\n",
       "      <td>5</td>\n",
       "      <td>76</td>\n",
       "      <td>1</td>\n",
       "      <td>4</td>\n",
       "      <td>3</td>\n",
       "      <td>1</td>\n",
       "    </tr>\n",
       "    <tr>\n",
       "      <th>5</th>\n",
       "      <td>3</td>\n",
       "      <td>42</td>\n",
       "      <td>2</td>\n",
       "      <td>1</td>\n",
       "      <td>3</td>\n",
       "      <td>1</td>\n",
       "    </tr>\n",
       "    <tr>\n",
       "      <th>6</th>\n",
       "      <td>4</td>\n",
       "      <td>36</td>\n",
       "      <td>3</td>\n",
       "      <td>1</td>\n",
       "      <td>2</td>\n",
       "      <td>0</td>\n",
       "    </tr>\n",
       "    <tr>\n",
       "      <th>7</th>\n",
       "      <td>4</td>\n",
       "      <td>60</td>\n",
       "      <td>2</td>\n",
       "      <td>1</td>\n",
       "      <td>2</td>\n",
       "      <td>0</td>\n",
       "    </tr>\n",
       "    <tr>\n",
       "      <th>8</th>\n",
       "      <td>4</td>\n",
       "      <td>54</td>\n",
       "      <td>1</td>\n",
       "      <td>1</td>\n",
       "      <td>3</td>\n",
       "      <td>0</td>\n",
       "    </tr>\n",
       "    <tr>\n",
       "      <th>9</th>\n",
       "      <td>3</td>\n",
       "      <td>52</td>\n",
       "      <td>3</td>\n",
       "      <td>4</td>\n",
       "      <td>3</td>\n",
       "      <td>0</td>\n",
       "    </tr>\n",
       "  </tbody>\n",
       "</table>\n",
       "</div>"
      ],
      "text/plain": [
       "   BIRADS  Edad  Forma  Margen  Densidad  Resultado\n",
       "0       5    67      3       5         3          1\n",
       "1       5    58      4       5         3          1\n",
       "2       4    28      1       1         3          0\n",
       "3       5    57      1       5         3          1\n",
       "4       5    76      1       4         3          1\n",
       "5       3    42      2       1         3          1\n",
       "6       4    36      3       1         2          0\n",
       "7       4    60      2       1         2          0\n",
       "8       4    54      1       1         3          0\n",
       "9       3    52      3       4         3          0"
      ]
     },
     "execution_count": 111,
     "metadata": {},
     "output_type": "execute_result"
    }
   ],
   "source": [
    "dataframe.head(10)\n"
   ]
  },
  {
   "cell_type": "code",
   "execution_count": 113,
   "id": "a66359ba-2e8a-4fd4-b5b2-2f1c9ff8bf1f",
   "metadata": {},
   "outputs": [
    {
     "data": {
      "text/html": [
       "<div>\n",
       "<style scoped>\n",
       "    .dataframe tbody tr th:only-of-type {\n",
       "        vertical-align: middle;\n",
       "    }\n",
       "\n",
       "    .dataframe tbody tr th {\n",
       "        vertical-align: top;\n",
       "    }\n",
       "\n",
       "    .dataframe thead th {\n",
       "        text-align: right;\n",
       "    }\n",
       "</style>\n",
       "<table border=\"1\" class=\"dataframe\">\n",
       "  <thead>\n",
       "    <tr style=\"text-align: right;\">\n",
       "      <th></th>\n",
       "      <th>BIRADS</th>\n",
       "      <th>Edad</th>\n",
       "      <th>Forma</th>\n",
       "      <th>Margen</th>\n",
       "      <th>Densidad</th>\n",
       "      <th>Resultado</th>\n",
       "    </tr>\n",
       "  </thead>\n",
       "  <tbody>\n",
       "    <tr>\n",
       "      <th>count</th>\n",
       "      <td>820.000000</td>\n",
       "      <td>820.000000</td>\n",
       "      <td>820.000000</td>\n",
       "      <td>820.000000</td>\n",
       "      <td>820.000000</td>\n",
       "      <td>820.000000</td>\n",
       "    </tr>\n",
       "    <tr>\n",
       "      <th>mean</th>\n",
       "      <td>4.314634</td>\n",
       "      <td>55.739024</td>\n",
       "      <td>2.775610</td>\n",
       "      <td>2.808537</td>\n",
       "      <td>2.915854</td>\n",
       "      <td>0.481707</td>\n",
       "    </tr>\n",
       "    <tr>\n",
       "      <th>std</th>\n",
       "      <td>0.669248</td>\n",
       "      <td>14.684062</td>\n",
       "      <td>1.243647</td>\n",
       "      <td>1.569295</td>\n",
       "      <td>0.351508</td>\n",
       "      <td>0.499970</td>\n",
       "    </tr>\n",
       "    <tr>\n",
       "      <th>min</th>\n",
       "      <td>0.000000</td>\n",
       "      <td>18.000000</td>\n",
       "      <td>1.000000</td>\n",
       "      <td>1.000000</td>\n",
       "      <td>1.000000</td>\n",
       "      <td>0.000000</td>\n",
       "    </tr>\n",
       "    <tr>\n",
       "      <th>25%</th>\n",
       "      <td>4.000000</td>\n",
       "      <td>45.750000</td>\n",
       "      <td>2.000000</td>\n",
       "      <td>1.000000</td>\n",
       "      <td>3.000000</td>\n",
       "      <td>0.000000</td>\n",
       "    </tr>\n",
       "    <tr>\n",
       "      <th>50%</th>\n",
       "      <td>4.000000</td>\n",
       "      <td>57.000000</td>\n",
       "      <td>3.000000</td>\n",
       "      <td>3.000000</td>\n",
       "      <td>3.000000</td>\n",
       "      <td>0.000000</td>\n",
       "    </tr>\n",
       "    <tr>\n",
       "      <th>75%</th>\n",
       "      <td>5.000000</td>\n",
       "      <td>66.000000</td>\n",
       "      <td>4.000000</td>\n",
       "      <td>4.000000</td>\n",
       "      <td>3.000000</td>\n",
       "      <td>1.000000</td>\n",
       "    </tr>\n",
       "    <tr>\n",
       "      <th>max</th>\n",
       "      <td>5.000000</td>\n",
       "      <td>96.000000</td>\n",
       "      <td>4.000000</td>\n",
       "      <td>5.000000</td>\n",
       "      <td>4.000000</td>\n",
       "      <td>1.000000</td>\n",
       "    </tr>\n",
       "  </tbody>\n",
       "</table>\n",
       "</div>"
      ],
      "text/plain": [
       "           BIRADS        Edad       Forma      Margen    Densidad   Resultado\n",
       "count  820.000000  820.000000  820.000000  820.000000  820.000000  820.000000\n",
       "mean     4.314634   55.739024    2.775610    2.808537    2.915854    0.481707\n",
       "std      0.669248   14.684062    1.243647    1.569295    0.351508    0.499970\n",
       "min      0.000000   18.000000    1.000000    1.000000    1.000000    0.000000\n",
       "25%      4.000000   45.750000    2.000000    1.000000    3.000000    0.000000\n",
       "50%      4.000000   57.000000    3.000000    3.000000    3.000000    0.000000\n",
       "75%      5.000000   66.000000    4.000000    4.000000    3.000000    1.000000\n",
       "max      5.000000   96.000000    4.000000    5.000000    4.000000    1.000000"
      ]
     },
     "execution_count": 113,
     "metadata": {},
     "output_type": "execute_result"
    }
   ],
   "source": [
    "dataframe.describe()"
   ]
  },
  {
   "cell_type": "code",
   "execution_count": 115,
   "id": "779079e9-40c3-4a48-88a4-0751bf114f75",
   "metadata": {},
   "outputs": [
    {
     "data": {
      "text/plain": [
       "Resultado\n",
       "0    425\n",
       "1    395\n",
       "dtype: int64"
      ]
     },
     "execution_count": 115,
     "metadata": {},
     "output_type": "execute_result"
    }
   ],
   "source": [
    "dataframe.groupby('Resultado').size()\n"
   ]
  },
  {
   "cell_type": "code",
   "execution_count": 117,
   "id": "1158c29e-7dee-4e45-b74d-fc0376803c74",
   "metadata": {},
   "outputs": [
    {
     "data": {
      "image/png": "[encoded data removed]",
      "text/plain": [
       "<Figure size 200x250 with 1 Axes>"
      ]
     },
     "metadata": {},
     "output_type": "display_data"
    }
   ],
   "source": [
    "import seaborn as sb\n",
    "dataframe['Resultado'] = dataframe['Resultado'].astype(int)\n",
    "sb.catplot(x='Resultado',hue = 'Resultado', data=dataframe, kind = \"count\", height=2.5, aspect=0.8, palette={0:\"blue\", 1:\"red\"}, legend=False)\n",
    "plt.title(\"distribucion de clase\")\n",
    "plt.show()"
   ]
  },
  {
   "cell_type": "code",
   "execution_count": 119,
   "id": "7f84b2c7-1fa3-4f16-95fe-929dd47ebd2f",
   "metadata": {},
   "outputs": [
    {
     "data": {
      "text/plain": [
       "<seaborn.axisgrid.FacetGrid at 0x21fb6185430>"
      ]
     },
     "execution_count": 119,
     "metadata": {},
     "output_type": "execute_result"
    },
    {
     "data": {
      "image/png": "[encoded data removed]",
      "text/plain": [
       "<Figure size 211.111x250 with 1 Axes>"
      ]
     },
     "metadata": {},
     "output_type": "display_data"
    }
   ],
   "source": [
    "sb.catplot(x = 'Resultado',data=dataframe,kind=\"count\",height=2.5,aspect=.8)"
   ]
  },
  {
   "cell_type": "code",
   "execution_count": null,
   "id": "538636ff-ff3a-48fc-9415-29a2aee69bb1",
   "metadata": {},
   "outputs": [],
   "source": []
  },
  {
   "cell_type": "code",
   "execution_count": null,
   "id": "eb2e7498-c1fc-41f1-883b-418895195c77",
   "metadata": {},
   "outputs": [],
   "source": []
  },
  {
   "cell_type": "code",
   "execution_count": 123,
   "id": "d6835fd9-f01d-427e-a28a-ff53681f0dd7",
   "metadata": {},
   "outputs": [],
   "source": [
    "y = dataframe['Resultado']\n",
    "x = dataframe.drop('Resultado',axis=1)"
   ]
  },
  {
   "cell_type": "code",
   "execution_count": 125,
   "id": "e6ddb0a6-beb9-40a4-93d2-ddaafe635228",
   "metadata": {},
   "outputs": [
    {
     "name": "stdout",
     "output_type": "stream",
     "text": [
      "103 16 38 89\n",
      "         Benigno  Maligno\n",
      "Benigno      103       16\n",
      "Maligno       38       89\n",
      "              precision    recall  f1-score   support\n",
      "\n",
      "     Benigno       0.73      0.87      0.79       119\n",
      "     Maligno       0.85      0.70      0.77       127\n",
      "\n",
      "    accuracy                           0.78       246\n",
      "   macro avg       0.79      0.78      0.78       246\n",
      "weighted avg       0.79      0.78      0.78       246\n",
      "\n"
     ]
    },
    {
     "data": {
      "image/png": "[encoded data removed]",
      "text/plain": [
       "<Figure size 640x480 with 2 Axes>"
      ]
     },
     "metadata": {},
     "output_type": "display_data"
    }
   ],
   "source": [
    "\n",
    "from sklearn.model_selection import train_test_split\n",
    "x_train,x_test,y_train, y_test = train_test_split(x,y,test_size=0.3,random_state=30)\n",
    "\n",
    "from sklearn.neighbors import KNeighborsClassifier\n",
    "knn_mm = KNeighborsClassifier(n_neighbors=1)\n",
    "\n",
    "#Entrenar el algoritmo\n",
    "knn_mm.fit(x_train,y_train)\n",
    "predicciones = knn_mm.predict(x_test)\n",
    "\n",
    "from sklearn.metrics import classification_report, confusion_matrix\n",
    "tn, fp, fn, tp = confusion_matrix(y_test,predicciones).ravel()\n",
    "\n",
    "print(tn, fp, fn, tp)\n",
    "sb.heatmap(confusion_matrix(y_test,predicciones), annot=True, fmt=\"d\")\n",
    "plt.title('Confusion Matrix')\n",
    "plt.xlabel('Predicted')\n",
    "plt.ylabel('True')\n",
    "\n",
    "labels = [\"Benigno\",\"Maligno\"]\n",
    "matriz = confusion_matrix(y_test,predicciones, labels=[0,1])\n",
    "print(pd.DataFrame(matriz, index = labels, columns = labels))\n",
    "\n",
    "\n",
    "#print(tn, fp, fn, tp)\n",
    "#sb.heatmap(confusion_matrix(y_test,predicciones), annot=True, fmt=\"d\")\n",
    "#plt.title('Confusion Matrix')\n",
    "#plt.xlabel('Predicted')\n",
    "#plt.ylabel('True')\n",
    "\n",
    "print(classification_report(y_test,predicciones,target_names=clasificadores))\n"
   ]
  },
  {
   "cell_type": "code",
   "execution_count": 127,
   "id": "7f57debf-ddfe-454c-88de-edd90b4ba977",
   "metadata": {},
   "outputs": [
    {
     "data": {
      "text/plain": [
       "[<matplotlib.lines.Line2D at 0x21fb6267380>]"
      ]
     },
     "execution_count": 127,
     "metadata": {},
     "output_type": "execute_result"
    },
    {
     "data": {
      "image/png": "[encoded data removed]",
      "text/plain": [
       "<Figure size 640x480 with 1 Axes>"
      ]
     },
     "metadata": {},
     "output_type": "display_data"
    }
   ],
   "source": [
    "#buscar tasa de error para encontrar eñ K optimo\n",
    "tasa_error = []\n",
    "for i in range(1,25):\n",
    "    knn_mm = KNeighborsClassifier(n_neighbors=i)\n",
    "    knn_mm.fit(x_train, y_train)\n",
    "    prediccion_i = knn_mm.predict(x_test)\n",
    "    tasa_error.append(np.mean(prediccion_i != y_test))\n",
    "valores = range(1,25)\n",
    "plt.plot(valores, tasa_error, color='green', marker='o', markerfacecolor = 'red', markersize='8')\n",
    "   "
   ]
  },
  {
   "cell_type": "code",
   "execution_count": 136,
   "id": "962b91c4-36b9-474f-8bfa-e638da040609",
   "metadata": {},
   "outputs": [
    {
     "name": "stdout",
     "output_type": "stream",
     "text": [
      "              precision    recall  f1-score   support\n",
      "\n",
      "     Benigno       0.80      0.88      0.84       119\n",
      "     Maligno       0.88      0.80      0.83       127\n",
      "\n",
      "    accuracy                           0.84       246\n",
      "   macro avg       0.84      0.84      0.84       246\n",
      "weighted avg       0.84      0.84      0.84       246\n",
      "\n"
     ]
    },
    {
     "data": {
      "image/png": "[encoded data removed]",
      "text/plain": [
       "<Figure size 640x480 with 2 Axes>"
      ]
     },
     "metadata": {},
     "output_type": "display_data"
    }
   ],
   "source": [
    "knn_mm = KNeighborsClassifier(n_neighbors=3)\n",
    "knn_mm.fit(x_train, y_train)\n",
    "predicciones = knn_mm.predict(x_test)\n",
    "\n",
    "sb.heatmap(confusion_matrix(y_test,predicciones), annot=True, fmt=\"d\")\n",
    "plt.title('Confusion Matrix')\n",
    "plt.xlabel('Predicted')\n",
    "plt.ylabel('True')\n",
    "print(classification_report(y_test,predicciones,target_names=clasificadores))"
   ]
  },
  {
   "cell_type": "code",
   "execution_count": 138,
   "id": "fe6a0bb5-da8f-486b-9ef4-d7a986609396",
   "metadata": {},
   "outputs": [
    {
     "name": "stdout",
     "output_type": "stream",
     "text": [
      "[0]\n",
      "[[0.66666667 0.33333333]]\n"
     ]
    },
    {
     "name": "stderr",
     "output_type": "stream",
     "text": [
      "C:\\Users\\Alumno\\anaconda3\\Lib\\site-packages\\sklearn\\base.py:493: UserWarning: X does not have valid feature names, but KNeighborsClassifier was fitted with feature names\n",
      "  warnings.warn(\n",
      "C:\\Users\\Alumno\\anaconda3\\Lib\\site-packages\\sklearn\\base.py:493: UserWarning: X does not have valid feature names, but KNeighborsClassifier was fitted with feature names\n",
      "  warnings.warn(\n"
     ]
    }
   ],
   "source": [
    "print(knn_mm.predict([[4, 65, 3, 5, 3]]))\n",
    "print(knn_mm.predict_proba([[4, 65, 3, 5, 3]]))"
   ]
  },
  {
   "cell_type": "code",
   "execution_count": 146,
   "id": "b3387121-7739-4e64-858d-f52912afebf8",
   "metadata": {},
   "outputs": [
    {
     "name": "stdout",
     "output_type": "stream",
     "text": [
      "[0]\n"
     ]
    }
   ],
   "source": [
    "print(knn_mm.predict(pd.DataFrame([[4, 65, 3, 5, 3]], columns=x.columns)))"
   ]
  },
  {
   "cell_type": "code",
   "execution_count": null,
   "id": "89dd4e43-4e90-4d35-8355-5dd507f8c4c0",
   "metadata": {},
   "outputs": [],
   "source": []
  }
 ],
 "metadata": {
  "kernelspec": {
   "display_name": "Python [conda env:base] *",
   "language": "python",
   "name": "conda-base-py"
  },
  "language_info": {
   "codemirror_mode": {
    "name": "ipython",
    "version": 3
   },
   "file_extension": ".py",
   "mimetype": "text/x-python",
   "name": "python",
   "nbconvert_exporter": "python",
   "pygments_lexer": "ipython3",
   "version": "3.12.7"
  }
 },
 "nbformat": 4,
 "nbformat_minor": 5
}
